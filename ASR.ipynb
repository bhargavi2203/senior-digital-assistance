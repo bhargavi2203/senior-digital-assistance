{
  "cells": [
    {
      "cell_type": "code",
      "source": [
        "!apt-get update\n",
        "!apt-get install portaudio19-dev python3-pyaudio # Removed the extra space before this line"
      ],
      "metadata": {
        "id": "CfJ7P_ar2LjZ",
        "outputId": "6c7c5d5d-3856-460a-acc0-73c65e261c04",
        "colab": {
          "base_uri": "https://localhost:8080/"
        }
      },
      "execution_count": null,
      "outputs": [
        {
          "output_type": "stream",
          "name": "stdout",
          "text": [
            "Get:1 https://cloud.r-project.org/bin/linux/ubuntu jammy-cran40/ InRelease [3,626 B]\n",
            "Hit:2 https://developer.download.nvidia.com/compute/cuda/repos/ubuntu2204/x86_64  InRelease\n",
            "Get:3 http://security.ubuntu.com/ubuntu jammy-security InRelease [129 kB]\n",
            "Hit:4 http://archive.ubuntu.com/ubuntu jammy InRelease\n",
            "Get:5 http://archive.ubuntu.com/ubuntu jammy-updates InRelease [128 kB]\n",
            "Ign:6 https://r2u.stat.illinois.edu/ubuntu jammy InRelease\n",
            "Hit:7 https://ppa.launchpadcontent.net/deadsnakes/ppa/ubuntu jammy InRelease\n",
            "Get:8 https://r2u.stat.illinois.edu/ubuntu jammy Release [5,713 B]\n",
            "Hit:9 https://ppa.launchpadcontent.net/graphics-drivers/ppa/ubuntu jammy InRelease\n",
            "Get:10 https://r2u.stat.illinois.edu/ubuntu jammy Release.gpg [793 B]\n",
            "Hit:11 https://ppa.launchpadcontent.net/ubuntugis/ppa/ubuntu jammy InRelease\n",
            "Get:12 http://security.ubuntu.com/ubuntu jammy-security/universe amd64 Packages [1,160 kB]\n",
            "Hit:13 http://archive.ubuntu.com/ubuntu jammy-backports InRelease\n",
            "Get:14 http://archive.ubuntu.com/ubuntu jammy-updates/main amd64 Packages [2,602 kB]\n",
            "Get:15 https://r2u.stat.illinois.edu/ubuntu jammy/main all Packages [8,387 kB]\n",
            "Get:16 http://security.ubuntu.com/ubuntu jammy-security/main amd64 Packages [2,326 kB]\n",
            "Get:17 http://archive.ubuntu.com/ubuntu jammy-updates/universe amd64 Packages [1,449 kB]\n",
            "Get:18 https://r2u.stat.illinois.edu/ubuntu jammy/main amd64 Packages [2,595 kB]\n",
            "Fetched 18.8 MB in 4s (4,261 kB/s)\n",
            "Reading package lists... Done\n",
            "W: Skipping acquire of configured file 'main/source/Sources' as repository 'https://r2u.stat.illinois.edu/ubuntu jammy InRelease' does not seem to provide it (sources.list entry misspelt?)\n",
            "Reading package lists... Done\n",
            "Building dependency tree... Done\n",
            "Reading state information... Done\n",
            "The following additional packages will be installed:\n",
            "  libportaudio2 libportaudiocpp0\n",
            "Suggested packages:\n",
            "  portaudio19-doc python-pyaudio-doc\n",
            "The following NEW packages will be installed:\n",
            "  libportaudio2 libportaudiocpp0 portaudio19-dev python3-pyaudio\n",
            "0 upgraded, 4 newly installed, 0 to remove and 51 not upgraded.\n",
            "Need to get 213 kB of archives.\n",
            "After this operation, 1,043 kB of additional disk space will be used.\n",
            "Get:1 http://archive.ubuntu.com/ubuntu jammy/universe amd64 libportaudio2 amd64 19.6.0-1.1 [65.3 kB]\n",
            "Get:2 http://archive.ubuntu.com/ubuntu jammy/universe amd64 libportaudiocpp0 amd64 19.6.0-1.1 [16.1 kB]\n",
            "Get:3 http://archive.ubuntu.com/ubuntu jammy/universe amd64 portaudio19-dev amd64 19.6.0-1.1 [106 kB]\n",
            "Get:4 http://archive.ubuntu.com/ubuntu jammy/universe amd64 python3-pyaudio amd64 0.2.11-1.3ubuntu1 [25.9 kB]\n",
            "Fetched 213 kB in 1s (149 kB/s)\n",
            "Selecting previously unselected package libportaudio2:amd64.\n",
            "(Reading database ... 123621 files and directories currently installed.)\n",
            "Preparing to unpack .../libportaudio2_19.6.0-1.1_amd64.deb ...\n",
            "Unpacking libportaudio2:amd64 (19.6.0-1.1) ...\n",
            "Selecting previously unselected package libportaudiocpp0:amd64.\n",
            "Preparing to unpack .../libportaudiocpp0_19.6.0-1.1_amd64.deb ...\n",
            "Unpacking libportaudiocpp0:amd64 (19.6.0-1.1) ...\n",
            "Selecting previously unselected package portaudio19-dev:amd64.\n",
            "Preparing to unpack .../portaudio19-dev_19.6.0-1.1_amd64.deb ...\n",
            "Unpacking portaudio19-dev:amd64 (19.6.0-1.1) ...\n",
            "Selecting previously unselected package python3-pyaudio.\n",
            "Preparing to unpack .../python3-pyaudio_0.2.11-1.3ubuntu1_amd64.deb ...\n",
            "Unpacking python3-pyaudio (0.2.11-1.3ubuntu1) ...\n",
            "Setting up libportaudio2:amd64 (19.6.0-1.1) ...\n",
            "Setting up libportaudiocpp0:amd64 (19.6.0-1.1) ...\n",
            "Setting up portaudio19-dev:amd64 (19.6.0-1.1) ...\n",
            "Setting up python3-pyaudio (0.2.11-1.3ubuntu1) ...\n",
            "Processing triggers for libc-bin (2.35-0ubuntu3.4) ...\n",
            "/sbin/ldconfig.real: /usr/local/lib/libur_adapter_opencl.so.0 is not a symbolic link\n",
            "\n",
            "/sbin/ldconfig.real: /usr/local/lib/libur_loader.so.0 is not a symbolic link\n",
            "\n",
            "/sbin/ldconfig.real: /usr/local/lib/libtbbbind.so.3 is not a symbolic link\n",
            "\n",
            "/sbin/ldconfig.real: /usr/local/lib/libtbb.so.12 is not a symbolic link\n",
            "\n",
            "/sbin/ldconfig.real: /usr/local/lib/libtbbbind_2_0.so.3 is not a symbolic link\n",
            "\n",
            "/sbin/ldconfig.real: /usr/local/lib/libtbbmalloc_proxy.so.2 is not a symbolic link\n",
            "\n",
            "/sbin/ldconfig.real: /usr/local/lib/libur_adapter_level_zero.so.0 is not a symbolic link\n",
            "\n",
            "/sbin/ldconfig.real: /usr/local/lib/libtbbmalloc.so.2 is not a symbolic link\n",
            "\n",
            "/sbin/ldconfig.real: /usr/local/lib/libtbbbind_2_5.so.3 is not a symbolic link\n",
            "\n"
          ]
        }
      ]
    },
    {
      "cell_type": "code",
      "source": [],
      "metadata": {
        "id": "k2rYE13f681L"
      },
      "execution_count": null,
      "outputs": []
    },
    {
      "cell_type": "code",
      "source": [
        "!pip install pyaudio --no-cache-dir  # Reinstall pyaudio, bypassing cache"
      ],
      "metadata": {
        "id": "quDT55CV2uvI",
        "outputId": "ec870be5-d72d-44d6-cc02-97443bf46e45",
        "colab": {
          "base_uri": "https://localhost:8080/"
        }
      },
      "execution_count": null,
      "outputs": [
        {
          "output_type": "stream",
          "name": "stdout",
          "text": [
            "Requirement already satisfied: pyaudio in /usr/lib/python3/dist-packages (0.2.11)\n"
          ]
        }
      ]
    },
    {
      "cell_type": "code",
      "source": [
        "!pip install SpeechRecognition"
      ],
      "metadata": {
        "id": "31W7U0Z423zo",
        "outputId": "2f602175-67f7-4ac7-f5af-7a4a06ba6f5d",
        "colab": {
          "base_uri": "https://localhost:8080/"
        }
      },
      "execution_count": null,
      "outputs": [
        {
          "output_type": "stream",
          "name": "stdout",
          "text": [
            "Requirement already satisfied: SpeechRecognition in /usr/local/lib/python3.10/dist-packages (3.10.4)\n",
            "Requirement already satisfied: requests>=2.26.0 in /usr/local/lib/python3.10/dist-packages (from SpeechRecognition) (2.32.3)\n",
            "Requirement already satisfied: typing-extensions in /usr/local/lib/python3.10/dist-packages (from SpeechRecognition) (4.12.2)\n",
            "Requirement already satisfied: charset-normalizer<4,>=2 in /usr/local/lib/python3.10/dist-packages (from requests>=2.26.0->SpeechRecognition) (3.4.0)\n",
            "Requirement already satisfied: idna<4,>=2.5 in /usr/local/lib/python3.10/dist-packages (from requests>=2.26.0->SpeechRecognition) (3.10)\n",
            "Requirement already satisfied: urllib3<3,>=1.21.1 in /usr/local/lib/python3.10/dist-packages (from requests>=2.26.0->SpeechRecognition) (2.2.3)\n",
            "Requirement already satisfied: certifi>=2017.4.17 in /usr/local/lib/python3.10/dist-packages (from requests>=2.26.0->SpeechRecognition) (2024.8.30)\n"
          ]
        }
      ]
    },
    {
      "cell_type": "code",
      "source": [
        "import speech_recognition as sr\n",
        "\n",
        "recognizer = sr.Recognizer()\n",
        "\n",
        "def audio_to_text(audio_file):\n",
        "    with sr.AudioFile(audio_file) as source:\n",
        "        audio = recognizer.record(source)\n",
        "        try:\n",
        "            return recognizer.recognize_google(audio)\n",
        "        except sr.UnknownValueError:\n",
        "            return \"Unrecognizable speech\""
      ],
      "metadata": {
        "id": "cKVkyS-w3KVA"
      },
      "execution_count": null,
      "outputs": []
    },
    {
      "cell_type": "code",
      "source": [
        "import re\n",
        "from nltk.corpus import stopwords\n",
        "from nltk.tokenize import word_tokenize\n",
        "\n",
        "def clean_text(text):\n",
        "    # Lowercase\n",
        "    text = text.lower()\n",
        "    # Remove special characters and digits\n",
        "    text = re.sub(r'[^a-zA-Z\\s]', '', text)\n",
        "    # Tokenize\n",
        "    words = word_tokenize(text)\n",
        "    # Remove stopwords\n",
        "    stop_words = set(stopwords.words('english'))\n",
        "    words = [word for word in words if word not in stop_words]\n",
        "    return ' '.join(words)\n"
      ],
      "metadata": {
        "id": "Goty8J9w3VXi"
      },
      "execution_count": null,
      "outputs": []
    },
    {
      "cell_type": "code",
      "source": [
        "context_mapping = {'urgent': 1, 'not urgent': 0}\n",
        "context_encoded = [context_mapping[context] for context in contexts]"
      ],
      "metadata": {
        "id": "wDu3ToDO3Z9O"
      },
      "execution_count": null,
      "outputs": []
    },
    {
      "cell_type": "code",
      "source": [
        "import re\n",
        "import speech_recognition as sr\n",
        "from sklearn.feature_extraction.text import TfidfVectorizer\n",
        "from sklearn.preprocessing import LabelEncoder\n",
        "from nltk.corpus import stopwords\n",
        "from nltk.tokenize import word_tokenize\n",
        "\n",
        "# Speech Recognition\n",
        "recognizer = sr.Recognizer()\n",
        "\n",
        "def audio_to_text(audio_file):\n",
        "    with sr.AudioFile(audio_file) as source:\n",
        "        audio = recognizer.record(source)\n",
        "        try:\n",
        "            return recognizer.recognize_google(audio)\n",
        "        except sr.UnknownValueError:\n",
        "            return \"Unrecognizable speech\"\n",
        "\n",
        "# Text Preprocessing\n",
        "def clean_text(text):\n",
        "    text = text.lower()\n",
        "    text = re.sub(r'[^a-zA-Z\\s]', '', text)\n",
        "    words = word_tokenize(text)\n",
        "    stop_words = set(stopwords.words('english'))\n",
        "    words = [word for word in words if word not in stop_words]\n",
        "    return ' '.join(words)\n",
        "\n",
        "# Example dataset\n",
        "transcriptions = [\"Call 911, I need help\", \"I fell down, please help\", \"Remind me to take meds\", \"Call my daughter please\"]\n",
        "contexts = [\"urgent\", \"urgent\", \"not urgent\", \"not urgent\"]\n",
        "intent_labels = [\"Emergency Services\", \"Contact Caregiver\", \"Set Reminder\", \"Contact Family\"]\n",
        "\n",
        "# Clean transcriptions\n",
        "cleaned_transcriptions = [clean_text(t) for t in transcriptions]\n",
        "\n",
        "# Convert text to features using TF-IDF\n",
        "vectorizer = TfidfVectorizer()\n",
        "X = vectorizer.fit_transform(cleaned_transcriptions)\n",
        "\n",
        "# Encode context and intent\n",
        "context_mapping = {'urgent': 1, 'not urgent': 0}\n",
        "context_encoded = [context_mapping[c] for c in contexts]\n",
        "\n",
        "label_encoder = LabelEncoder()\n",
        "y = label_encoder.fit_transform(intent_labels)\n",
        "\n",
        "# X contains TF-IDF features, context_encoded contains context information, y contains encoded intent labels.\n"
      ],
      "metadata": {
        "id": "Fka6ntmF3hqZ"
      },
      "execution_count": null,
      "outputs": []
    },
    {
      "cell_type": "code",
      "source": [
        "import os\n",
        "import librosa\n",
        "import numpy as np\n",
        "\n",
        "def load_and_preprocess_audio_files(dataset_path, sr=16000, n_mfcc=13):\n",
        "    # List all subfolders (commands or categories) in the dataset path\n",
        "    categories = os.listdir(dataset_path)\n",
        "\n",
        "    data = []\n",
        "    labels = []\n",
        "\n",
        "    for idx, category in enumerate(categories):\n",
        "        category_path = os.path.join(dataset_path, category)\n",
        "\n",
        "        for filename in os.listdir(category_path):\n",
        "            if filename.endswith(\".mp3\"):\n",
        "                # Full path to the audio file\n",
        "                file_path = os.path.join(category_path, filename)\n",
        "\n",
        "                # Load the audio file with librosa, and resample to 16kHz\n",
        "                audio, sample_rate = librosa.load(file_path, sr=sr)\n",
        "\n",
        "                # Preprocess the audio data: extract MFCC features\n",
        "                mfccs = librosa.feature.mfcc(y=audio, sr=sample_rate, n_mfcc=n_mfcc)\n",
        "\n",
        "                # Take the mean of the MFCC coefficients along the time axis\n",
        "                mfccs_mean = np.mean(mfccs.T, axis=0)\n",
        "\n",
        "                # Append to data list\n",
        "                data.append(mfccs_mean)\n",
        "                labels.append(idx)  # Label by category index\n",
        "\n",
        "    # Convert to numpy arrays\n",
        "    return np.array(data), np.array(labels)\n",
        "\n",
        "# Set the path to your dataset\n",
        "dataset_path = \"/content/voicedataset\"\n",
        "\n",
        "# Load and preprocess audio files\n",
        "audio_features, labels = load_and_preprocess_audio_files(dataset_path)\n",
        "\n"
      ],
      "metadata": {
        "id": "U2iCRPM23p7U"
      },
      "execution_count": null,
      "outputs": []
    },
    {
      "cell_type": "code",
      "source": [
        "import speech_recognition as sr\n",
        "\n",
        "# Initialize recognizer\n",
        "recognizer = sr.Recognizer()\n",
        "\n",
        "# Function to process speech from an audio file\n",
        "def recognize_from_audiofile(file_path):\n",
        "    try:\n",
        "        # Open the audio file\n",
        "        with sr.AudioFile(file_path) as source:\n",
        "            print(f\"Processing file: {file_path}\")\n",
        "            audio = recognizer.record(source)  # Read the entire file into an audio object\n",
        "\n",
        "            # Recognize speech using Google Web Speech API\n",
        "            print(\"Recognizing...\")\n",
        "            command = recognizer.recognize_google(audio)\n",
        "            print(f\"Detected command: {command}\")\n",
        "            return command\n",
        "    except sr.UnknownValueError:\n",
        "        print(\"Sorry, I could not understand the audio.\")\n",
        "    except sr.RequestError as e:\n",
        "        print(f\"Request error from Google Speech Recognition service; {e}\")\n",
        "    except FileNotFoundError:\n",
        "        print(f\"Audio file not found: {file_path}\")\n",
        "    return None\n",
        "\n",
        "if __name__ == \"__main__\":\n",
        "    # Example audio file path\n",
        "    audio_file_path = \"/content/WhatsApp Audio 2024-10-15 at 12.06.29_bc1c411a.waptt (online-audio-converter.com).wav\"\n",
        "\n",
        "    # Call the function to recognize speech from the audio file\n",
        "    command = recognize_from_audiofile(audio_file_path)\n",
        "    if command:\n",
        "        # Process command (e.g., analyze intent, issue emergency alert)\n",
        "        pass\n",
        "\n"
      ],
      "metadata": {
        "id": "A64NqHkJ4Dq1",
        "outputId": "d5489401-870b-424f-d373-3789d4f3eba2",
        "colab": {
          "base_uri": "https://localhost:8080/"
        }
      },
      "execution_count": null,
      "outputs": [
        {
          "output_type": "stream",
          "name": "stdout",
          "text": [
            "Processing file: /content/WhatsApp Audio 2024-10-15 at 12.06.29_bc1c411a.waptt (online-audio-converter.com).wav\n",
            "Recognizing...\n",
            "Detected command: hi hello my my name is Nikita hi hello we just completed lab\n"
          ]
        }
      ]
    }
  ],
  "metadata": {
    "colab": {
      "provenance": []
    },
    "kernelspec": {
      "display_name": "Python 3",
      "name": "python3"
    }
  },
  "nbformat": 4,
  "nbformat_minor": 0
}